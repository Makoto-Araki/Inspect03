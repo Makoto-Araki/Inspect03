{
 "cells": [
  {
   "cell_type": "code",
   "execution_count": 12,
   "metadata": {},
   "outputs": [],
   "source": [
    "# ライブラリ\n",
    "import requests\n",
    "import datetime\n",
    "import csv\n",
    "import os\n",
    "import shutil\n",
    "from bs4 import BeautifulSoup\n",
    "from urllib.parse import urljoin\n",
    "from time import sleep\n",
    "\n",
    "# 初期化\n",
    "url = 'https://python-data-collection.herokuapp.com/mens-fashion'\n",
    "parser = 'html.parser'\n",
    "item_list = []\n",
    "\n",
    "# 練習サイトの一覧ページ(10ページ分)をループ処理\n",
    "for i in range(9):\n",
    "    response = requests.get(url)\n",
    "    soup = BeautifulSoup(response.text, parser)\n",
    "    \n",
    "    # 一覧ページ上の各商品のデータ取得\n",
    "    for elem in soup.find_all('div', class_='col-md-2'):\n",
    "        item_image_url = urljoin(url, elem.find('img')['src'])\n",
    "        item_name = elem.find('div', class_='card-body').text.split('\\n')[2]\n",
    "        item_brand = elem.find('div', class_='card-body').text.split('\\n')[3]\n",
    "        item_price = int(elem.find('div', class_='card-body').text.split('\\n')[4].replace(',', '')[1:])\n",
    "        item_list.append([item_name, item_image_url, item_brand, item_price])\n",
    "    \n",
    "    # 次ページのURL更新\n",
    "    if soup.select(\"a:contains('Next')\"):\n",
    "        url = urljoin(url, soup.select(\"a:contains('Next')\")[0]['href'])\n",
    "        sleep(1)\n",
    "    else:\n",
    "        break\n",
    "\n",
    "# CSVファイル\n",
    "csv_head = ['商品名', '画像URL', 'ブランド', '価格']\n",
    "csv_date = datetime.datetime.today().strftime('%Y%m%d%H')\n",
    "csv_file = 'mens_fashion_' + csv_date + '.csv'\n",
    "\n",
    "# CSVファイルにデータ保存\n",
    "with open(csv_file, 'w', errors='ignore') as file:\n",
    "    writer = csv.writer(file, lineterminator='\\n')\n",
    "    writer.writerow(csv_head)\n",
    "    writer.writerows(item_list)\n",
    "\n",
    "# 画像ファイルの保存先\n",
    "path = r'./download'\n",
    "\n",
    "# 画像ファイルを保存\n",
    "for item in item_list:\n",
    "    file_name = item[0] + '.jpg'\n",
    "    image_path = os.path.join(path, file_name)\n",
    "    response = requests.get(item[1], stream=True)\n",
    "    with open(image_path, 'wb') as file:\n",
    "        shutil.copyfileobj(response.raw, file)"
   ]
  },
  {
   "cell_type": "code",
   "execution_count": null,
   "metadata": {},
   "outputs": [],
   "source": []
  }
 ],
 "metadata": {
  "kernelspec": {
   "display_name": "Python 3",
   "language": "python",
   "name": "python3"
  },
  "language_info": {
   "codemirror_mode": {
    "name": "ipython",
    "version": 3
   },
   "file_extension": ".py",
   "mimetype": "text/x-python",
   "name": "python",
   "nbconvert_exporter": "python",
   "pygments_lexer": "ipython3",
   "version": "3.8.3"
  }
 },
 "nbformat": 4,
 "nbformat_minor": 4
}
